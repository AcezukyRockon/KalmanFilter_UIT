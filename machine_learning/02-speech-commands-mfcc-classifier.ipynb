{
 "cells": [
  {
   "cell_type": "code",
   "execution_count": 22,
   "metadata": {},
   "outputs": [],
   "source": [
    "from os import listdir\n",
    "from os.path import isdir, join\n",
    "from tensorflow.keras import layers, models\n",
    "import numpy as np"
   ]
  },
  {
   "cell_type": "code",
   "execution_count": 23,
   "metadata": {},
   "outputs": [
    {
     "name": "stdout",
     "output_type": "stream",
     "text": [
      "['trai', 'phai', 'dunglai', 'len', 'xuong', 'co', 'dongy', 'khong']\n"
     ]
    }
   ],
   "source": [
    "# Create list of all targets (minus background noise)\n",
    "dataset_path = '/tf/voicereg/datasets'\n",
    "all_targets = all_targets = [name for name in listdir(dataset_path) if isdir(join(dataset_path, name))]\n",
    "# all_targets.remove('.ipynb_checkpoints')\n",
    "print(all_targets)"
   ]
  },
  {
   "cell_type": "code",
   "execution_count": 24,
   "metadata": {},
   "outputs": [],
   "source": [
    "# Settings\n",
    "feature_sets_path = '/tf/voicereg'\n",
    "feature_sets_filename = 'all_targets_mfcc_sets.npz'\n",
    "model_filename = 'model_softmax.h5'\n",
    "# wake_word = 'stop'"
   ]
  },
  {
   "cell_type": "code",
   "execution_count": 25,
   "metadata": {},
   "outputs": [
    {
     "name": "stdout",
     "output_type": "stream",
     "text": [
      "['x_train', 'y_train', 'x_val', 'y_val', 'x_test', 'y_test']\n"
     ]
    }
   ],
   "source": [
    "# Load feature sets\n",
    "feature_sets = np.load(join(feature_sets_path, feature_sets_filename))\n",
    "print(feature_sets.files)"
   ]
  },
  {
   "cell_type": "code",
   "execution_count": 26,
   "metadata": {},
   "outputs": [],
   "source": [
    "# Assign feature sets\n",
    "x_train = feature_sets['x_train']\n",
    "y_train = feature_sets['y_train']\n",
    "x_val = feature_sets['x_val']\n",
    "y_val = feature_sets['y_val']\n",
    "x_test = feature_sets['x_test']\n",
    "y_test = feature_sets['y_test']"
   ]
  },
  {
   "cell_type": "code",
   "execution_count": 27,
   "metadata": {},
   "outputs": [
    {
     "name": "stdout",
     "output_type": "stream",
     "text": [
      "(529, 16, 16)\n",
      "(66, 16, 16)\n",
      "(66, 16, 16)\n"
     ]
    }
   ],
   "source": [
    "# Look at tensor dimensions\n",
    "print(x_train.shape)\n",
    "print(x_val.shape)\n",
    "print(x_test.shape)"
   ]
  },
  {
   "cell_type": "code",
   "execution_count": 28,
   "metadata": {},
   "outputs": [
    {
     "name": "stdout",
     "output_type": "stream",
     "text": [
      "[3. 7. 3. 2. 3. 3. 7. 7. 1. 7. 7. 5. 7. 3. 5. 6. 3. 1. 6. 7. 4. 3. 1. 7.\n",
      " 7. 0. 0. 4. 2. 4. 0. 0. 1. 1. 1. 4. 4. 3. 1. 2. 2. 4. 5. 0. 7. 3. 4. 3.\n",
      " 0. 3. 1. 0. 3. 1. 1. 4. 0. 4. 4. 6. 7. 4. 3. 3. 2. 1.]\n"
     ]
    }
   ],
   "source": [
    "# Peek at labels\n",
    "print(y_val)"
   ]
  },
  {
   "cell_type": "code",
   "execution_count": 29,
   "metadata": {},
   "outputs": [],
   "source": [
    "# Convert ground truth arrays to one wake word (1) and 'other' (0)\n",
    "# wake_word_index = all_targets\n",
    "# y_train = np.equal(y_train, wake_word_index).astype('float64')\n",
    "# y_val = np.equal(y_val, wake_word_index).astype('float64')\n",
    "# y_test = np.equal(y_test, wake_word_index).astype('float64')"
   ]
  },
  {
   "cell_type": "code",
   "execution_count": 30,
   "metadata": {},
   "outputs": [
    {
     "name": "stdout",
     "output_type": "stream",
     "text": [
      "[3. 7. 3. 2. 3. 3. 7. 7. 1. 7. 7. 5. 7. 3. 5. 6. 3. 1. 6. 7. 4. 3. 1. 7.\n",
      " 7. 0. 0. 4. 2. 4. 0. 0. 1. 1. 1. 4. 4. 3. 1. 2. 2. 4. 5. 0. 7. 3. 4. 3.\n",
      " 0. 3. 1. 0. 3. 1. 1. 4. 0. 4. 4. 6. 7. 4. 3. 3. 2. 1.]\n"
     ]
    }
   ],
   "source": [
    "# Peek at labels after conversion\n",
    "print(y_val)"
   ]
  },
  {
   "cell_type": "code",
   "execution_count": 31,
   "metadata": {},
   "outputs": [
    {
     "name": "stdout",
     "output_type": "stream",
     "text": [
      "3.287878787878788\n",
      "-2.287878787878788\n"
     ]
    }
   ],
   "source": [
    "# What percentage of 'stop' appear in validation labels\n",
    "print(sum(y_val) / len(y_val))\n",
    "print(1 - sum(y_val) / len(y_val))"
   ]
  },
  {
   "cell_type": "code",
   "execution_count": 32,
   "metadata": {},
   "outputs": [
    {
     "name": "stdout",
     "output_type": "stream",
     "text": [
      "(529, 16, 16)\n"
     ]
    }
   ],
   "source": [
    "# View the dimensions of our input data\n",
    "print(x_train.shape)"
   ]
  },
  {
   "cell_type": "code",
   "execution_count": 33,
   "metadata": {},
   "outputs": [
    {
     "name": "stdout",
     "output_type": "stream",
     "text": [
      "(529, 16, 16, 1)\n",
      "(66, 16, 16, 1)\n",
      "(66, 16, 16, 1)\n"
     ]
    }
   ],
   "source": [
    "# CNN for TF expects (batch, height, width, channels)\n",
    "# So we reshape the input tensors with a \"color\" channel of 1\n",
    "x_train = x_train.reshape(x_train.shape[0], \n",
    "                          x_train.shape[1], \n",
    "                          x_train.shape[2], \n",
    "                          1)\n",
    "x_val = x_val.reshape(x_val.shape[0], \n",
    "                      x_val.shape[1], \n",
    "                      x_val.shape[2], \n",
    "                      1)\n",
    "x_test = x_test.reshape(x_test.shape[0], \n",
    "                        x_test.shape[1], \n",
    "                        x_test.shape[2], \n",
    "                        1)\n",
    "print(x_train.shape)\n",
    "print(x_val.shape)\n",
    "print(x_test.shape)"
   ]
  },
  {
   "cell_type": "code",
   "execution_count": 34,
   "metadata": {},
   "outputs": [
    {
     "name": "stdout",
     "output_type": "stream",
     "text": [
      "(16, 16, 1)\n"
     ]
    }
   ],
   "source": [
    "# Input shape for CNN is size of MFCC of 1 sample\n",
    "sample_shape = x_test.shape[1:]\n",
    "print(sample_shape)"
   ]
  },
  {
   "cell_type": "code",
   "execution_count": 35,
   "metadata": {},
   "outputs": [],
   "source": [
    "# Build model\n",
    "# Based on: https://www.geeksforgeeks.org/python-image-classification-using-keras/\n",
    "model = models.Sequential()\n",
    "model.add(layers.Conv2D(32, \n",
    "                        (2, 2), \n",
    "                        activation='relu',\n",
    "                        input_shape=sample_shape))\n",
    "model.add(layers.MaxPooling2D(pool_size=(2, 2)))\n",
    "\n",
    "model.add(layers.Conv2D(32, (2, 2), activation='relu'))\n",
    "model.add(layers.MaxPooling2D(pool_size=(2, 2)))\n",
    "\n",
    "model.add(layers.Conv2D(64, (2, 2), activation='relu'))\n",
    "model.add(layers.MaxPooling2D(pool_size=(2, 2)))\n",
    "\n",
    "# Classifier\n",
    "model.add(layers.Flatten())\n",
    "model.add(layers.Dense(64, activation='relu'))\n",
    "model.add(layers.Dropout(0.5))\n",
    "model.add(layers.Dense(8, activation='softmax'))"
   ]
  },
  {
   "cell_type": "code",
   "execution_count": 36,
   "metadata": {},
   "outputs": [
    {
     "name": "stdout",
     "output_type": "stream",
     "text": [
      "Model: \"sequential_1\"\n",
      "_________________________________________________________________\n",
      " Layer (type)                Output Shape              Param #   \n",
      "=================================================================\n",
      " conv2d_3 (Conv2D)           (None, 15, 15, 32)        160       \n",
      "                                                                 \n",
      " max_pooling2d_3 (MaxPooling  (None, 7, 7, 32)         0         \n",
      " 2D)                                                             \n",
      "                                                                 \n",
      " conv2d_4 (Conv2D)           (None, 6, 6, 32)          4128      \n",
      "                                                                 \n",
      " max_pooling2d_4 (MaxPooling  (None, 3, 3, 32)         0         \n",
      " 2D)                                                             \n",
      "                                                                 \n",
      " conv2d_5 (Conv2D)           (None, 2, 2, 64)          8256      \n",
      "                                                                 \n",
      " max_pooling2d_5 (MaxPooling  (None, 1, 1, 64)         0         \n",
      " 2D)                                                             \n",
      "                                                                 \n",
      " flatten_1 (Flatten)         (None, 64)                0         \n",
      "                                                                 \n",
      " dense_2 (Dense)             (None, 64)                4160      \n",
      "                                                                 \n",
      " dropout_1 (Dropout)         (None, 64)                0         \n",
      "                                                                 \n",
      " dense_3 (Dense)             (None, 8)                 520       \n",
      "                                                                 \n",
      "=================================================================\n",
      "Total params: 17,224\n",
      "Trainable params: 17,224\n",
      "Non-trainable params: 0\n",
      "_________________________________________________________________\n"
     ]
    }
   ],
   "source": [
    "# Display model\n",
    "model.summary()"
   ]
  },
  {
   "cell_type": "code",
   "execution_count": 37,
   "metadata": {},
   "outputs": [],
   "source": [
    "# Add training parameters to model\n",
    "model.compile(loss='sparse_categorical_crossentropy', \n",
    "              optimizer='adam', \n",
    "              metrics=['acc'])"
   ]
  },
  {
   "cell_type": "code",
   "execution_count": 38,
   "metadata": {},
   "outputs": [
    {
     "name": "stdout",
     "output_type": "stream",
     "text": [
      "Epoch 1/30\n",
      "6/6 [==============================] - 2s 115ms/step - loss: 2.9369 - acc: 0.1172 - val_loss: 1.9463 - val_acc: 0.2273\n",
      "Epoch 2/30\n",
      "6/6 [==============================] - 0s 53ms/step - loss: 2.1517 - acc: 0.1342 - val_loss: 1.8848 - val_acc: 0.2273\n",
      "Epoch 3/30\n",
      "6/6 [==============================] - 0s 51ms/step - loss: 2.0193 - acc: 0.1909 - val_loss: 1.9019 - val_acc: 0.3030\n",
      "Epoch 4/30\n",
      "6/6 [==============================] - 0s 51ms/step - loss: 1.9522 - acc: 0.2382 - val_loss: 1.8594 - val_acc: 0.4545\n",
      "Epoch 5/30\n",
      "6/6 [==============================] - 0s 53ms/step - loss: 1.9232 - acc: 0.2665 - val_loss: 1.8229 - val_acc: 0.5000\n",
      "Epoch 6/30\n",
      "6/6 [==============================] - 0s 50ms/step - loss: 1.8432 - acc: 0.3006 - val_loss: 1.7413 - val_acc: 0.5152\n",
      "Epoch 7/30\n",
      "6/6 [==============================] - 0s 60ms/step - loss: 1.7627 - acc: 0.3611 - val_loss: 1.6272 - val_acc: 0.5909\n",
      "Epoch 8/30\n",
      "6/6 [==============================] - 0s 75ms/step - loss: 1.6975 - acc: 0.4234 - val_loss: 1.5317 - val_acc: 0.5909\n",
      "Epoch 9/30\n",
      "6/6 [==============================] - 0s 54ms/step - loss: 1.5374 - acc: 0.4442 - val_loss: 1.4051 - val_acc: 0.6364\n",
      "Epoch 10/30\n",
      "6/6 [==============================] - 0s 64ms/step - loss: 1.4621 - acc: 0.5047 - val_loss: 1.2277 - val_acc: 0.7273\n",
      "Epoch 11/30\n",
      "6/6 [==============================] - 0s 81ms/step - loss: 1.3385 - acc: 0.5728 - val_loss: 1.0946 - val_acc: 0.7273\n",
      "Epoch 12/30\n",
      "6/6 [==============================] - 0s 49ms/step - loss: 1.2326 - acc: 0.5917 - val_loss: 0.9434 - val_acc: 0.7879\n",
      "Epoch 13/30\n",
      "6/6 [==============================] - 0s 54ms/step - loss: 1.0801 - acc: 0.6578 - val_loss: 0.8070 - val_acc: 0.8485\n",
      "Epoch 14/30\n",
      "6/6 [==============================] - 0s 61ms/step - loss: 0.9623 - acc: 0.6938 - val_loss: 0.6910 - val_acc: 0.8485\n",
      "Epoch 15/30\n",
      "6/6 [==============================] - 0s 60ms/step - loss: 0.8805 - acc: 0.7221 - val_loss: 0.5535 - val_acc: 0.8788\n",
      "Epoch 16/30\n",
      "6/6 [==============================] - 0s 48ms/step - loss: 0.7792 - acc: 0.7599 - val_loss: 0.5888 - val_acc: 0.8636\n",
      "Epoch 17/30\n",
      "6/6 [==============================] - 0s 64ms/step - loss: 0.7870 - acc: 0.7240 - val_loss: 0.4387 - val_acc: 0.8788\n",
      "Epoch 18/30\n",
      "6/6 [==============================] - 0s 77ms/step - loss: 0.6277 - acc: 0.7940 - val_loss: 0.4371 - val_acc: 0.8939\n",
      "Epoch 19/30\n",
      "6/6 [==============================] - 0s 66ms/step - loss: 0.5591 - acc: 0.8091 - val_loss: 0.3321 - val_acc: 0.9394\n",
      "Epoch 20/30\n",
      "6/6 [==============================] - 0s 54ms/step - loss: 0.5150 - acc: 0.8336 - val_loss: 0.3231 - val_acc: 0.9091\n",
      "Epoch 21/30\n",
      "6/6 [==============================] - 0s 56ms/step - loss: 0.4463 - acc: 0.8715 - val_loss: 0.2971 - val_acc: 0.9394\n",
      "Epoch 22/30\n",
      "6/6 [==============================] - 0s 53ms/step - loss: 0.4170 - acc: 0.8752 - val_loss: 0.2687 - val_acc: 0.9091\n",
      "Epoch 23/30\n",
      "6/6 [==============================] - 0s 52ms/step - loss: 0.3912 - acc: 0.8847 - val_loss: 0.2411 - val_acc: 0.9394\n",
      "Epoch 24/30\n",
      "6/6 [==============================] - 0s 52ms/step - loss: 0.3310 - acc: 0.8828 - val_loss: 0.2169 - val_acc: 0.9545\n",
      "Epoch 25/30\n",
      "6/6 [==============================] - 0s 61ms/step - loss: 0.3389 - acc: 0.8885 - val_loss: 0.1915 - val_acc: 0.9545\n",
      "Epoch 26/30\n",
      "6/6 [==============================] - 0s 62ms/step - loss: 0.2702 - acc: 0.9357 - val_loss: 0.1658 - val_acc: 0.9697\n",
      "Epoch 27/30\n",
      "6/6 [==============================] - 0s 73ms/step - loss: 0.2479 - acc: 0.9244 - val_loss: 0.1572 - val_acc: 0.9545\n",
      "Epoch 28/30\n",
      "6/6 [==============================] - 0s 54ms/step - loss: 0.2106 - acc: 0.9376 - val_loss: 0.1376 - val_acc: 0.9697\n",
      "Epoch 29/30\n",
      "6/6 [==============================] - 0s 66ms/step - loss: 0.2096 - acc: 0.9546 - val_loss: 0.1489 - val_acc: 0.9697\n",
      "Epoch 30/30\n",
      "6/6 [==============================] - 0s 51ms/step - loss: 0.1896 - acc: 0.9452 - val_loss: 0.1409 - val_acc: 0.9545\n"
     ]
    }
   ],
   "source": [
    "# Train\n",
    "history = model.fit(x_train, \n",
    "                    y_train, \n",
    "                    epochs=30, \n",
    "                    batch_size=100, \n",
    "                    validation_data=(x_val, y_val))"
   ]
  },
  {
   "cell_type": "code",
   "execution_count": 39,
   "metadata": {},
   "outputs": [
    {
     "data": {
      "image/png": "[encoded data removed]",
      "text/plain": [
       "<Figure size 640x480 with 1 Axes>"
      ]
     },
     "metadata": {},
     "output_type": "display_data"
    },
    {
     "data": {
      "image/png": "[encoded data removed]",
      "text/plain": [
       "<Figure size 640x480 with 1 Axes>"
      ]
     },
     "metadata": {},
     "output_type": "display_data"
    }
   ],
   "source": [
    "# Plot results\n",
    "import matplotlib.pyplot as plt\n",
    "\n",
    "acc = history.history['acc']\n",
    "val_acc = history.history['val_acc']\n",
    "loss = history.history['loss']\n",
    "val_loss = history.history['val_loss']\n",
    "\n",
    "epochs = range(1, len(acc) + 1)\n",
    "\n",
    "plt.plot(epochs, acc, 'bo', label='Training acc')\n",
    "plt.plot(epochs, val_acc, 'b', label='Validation acc')\n",
    "plt.title('Training and validation accuracy')\n",
    "plt.legend()\n",
    "\n",
    "plt.figure()\n",
    "\n",
    "plt.plot(epochs, loss, 'bo', label='Training loss')\n",
    "plt.plot(epochs, val_loss, 'b', label='Validation loss')\n",
    "plt.title('Training and validation loss')\n",
    "plt.legend()\n",
    "\n",
    "plt.show()"
   ]
  },
  {
   "cell_type": "code",
   "execution_count": 40,
   "metadata": {},
   "outputs": [],
   "source": [
    "# Save the model as a file\n",
    "models.save_model(model, model_filename)"
   ]
  },
  {
   "cell_type": "code",
   "execution_count": 41,
   "metadata": {},
   "outputs": [
    {
     "name": "stdout",
     "output_type": "stream",
     "text": [
      "0\n",
      "15\n",
      "17\n",
      "20\n",
      "24\n",
      "37\n",
      "45\n",
      "52\n",
      "56\n",
      "65\n"
     ]
    }
   ],
   "source": [
    "# See which are 'stop'\n",
    "for idx, y in enumerate(y_test):\n",
    "    if y == 1:\n",
    "        print(idx)"
   ]
  },
  {
   "cell_type": "code",
   "execution_count": 42,
   "metadata": {},
   "outputs": [
    {
     "name": "stdout",
     "output_type": "stream",
     "text": [
      "1/1 [==============================] - 0s 275ms/step\n",
      "Answer: 1.0  Prediction: [[2.4537548e-02 9.7424537e-01 3.4820326e-04 3.8046352e-04 2.5166775e-04\n",
      "  6.6627596e-05 1.3961064e-04 3.0498841e-05]]\n",
      "1/1 [==============================] - 0s 49ms/step\n",
      "Answer: 0.0  Prediction: [[9.9879682e-01 1.0982265e-03 2.0926623e-06 8.4807856e-05 3.6335673e-06\n",
      "  9.0534722e-06 4.6021478e-06 7.1180580e-07]]\n",
      "1/1 [==============================] - 0s 52ms/step\n",
      "Answer: 5.0  Prediction: [[8.7103475e-04 1.1744344e-02 3.3691360e-04 4.5113137e-04 3.5796914e-04\n",
      "  9.8035675e-01 2.1459630e-03 3.7358399e-03]]\n",
      "1/1 [==============================] - 0s 51ms/step\n",
      "Answer: 5.0  Prediction: [[0.02295732 0.08031273 0.00079748 0.00173777 0.00279339 0.67689365\n",
      "  0.00184559 0.21266209]]\n",
      "1/1 [==============================] - 0s 52ms/step\n",
      "Answer: 0.0  Prediction: [[9.9672168e-01 2.3415901e-03 3.7100799e-05 1.7424046e-04 1.5594345e-04\n",
      "  4.6506966e-04 2.5192898e-05 7.9295693e-05]]\n",
      "1/1 [==============================] - 0s 65ms/step\n",
      "Answer: 0.0  Prediction: [[8.7411743e-01 1.2266359e-01 1.1183479e-04 4.7549506e-04 7.2354036e-05\n",
      "  2.3705305e-03 1.2244428e-04 6.6422770e-05]]\n",
      "1/1 [==============================] - 0s 57ms/step\n",
      "Answer: 3.0  Prediction: [[9.3941705e-04 1.5668027e-03 8.1110111e-04 9.9638259e-01 1.4527472e-05\n",
      "  4.7017907e-05 1.9813202e-04 4.0413823e-05]]\n",
      "1/1 [==============================] - 0s 47ms/step\n",
      "Answer: 6.0  Prediction: [[2.4570716e-03 1.8089247e-03 2.8316062e-03 2.4203468e-02 2.2960404e-02\n",
      "  1.2973307e-04 9.4536424e-01 2.4450567e-04]]\n",
      "1/1 [==============================] - 0s 74ms/step\n",
      "Answer: 2.0  Prediction: [[0.00340204 0.1838     0.7205301  0.01228747 0.00866942 0.00421413\n",
      "  0.05513987 0.01195703]]\n",
      "1/1 [==============================] - 0s 74ms/step\n",
      "Answer: 0.0  Prediction: [[9.8266613e-01 1.3488267e-02 1.1856968e-04 4.8451874e-04 4.3325225e-04\n",
      "  2.4023934e-03 1.6172355e-04 2.4523688e-04]]\n"
     ]
    }
   ],
   "source": [
    "# TEST: Load model and run it against test set\n",
    "model = models.load_model(model_filename)\n",
    "for i in range(0, 10):\n",
    "    print('Answer:', y_test[i], ' Prediction:', model.predict(np.expand_dims(x_test[i], 0)))"
   ]
  },
  {
   "cell_type": "code",
   "execution_count": 43,
   "metadata": {},
   "outputs": [
    {
     "name": "stdout",
     "output_type": "stream",
     "text": [
      "3/3 [==============================] - 0s 9ms/step - loss: 0.1399 - acc: 0.9697\n"
     ]
    },
    {
     "data": {
      "text/plain": [
       "[0.1398923397064209, 0.9696969985961914]"
      ]
     },
     "execution_count": 43,
     "metadata": {},
     "output_type": "execute_result"
    }
   ],
   "source": [
    "# Evaluate model with test set\n",
    "model.evaluate(x=x_test, y=y_test)"
   ]
  },
  {
   "cell_type": "code",
   "execution_count": 40,
   "metadata": {},
   "outputs": [
    {
     "name": "stdout",
     "output_type": "stream",
     "text": [
      "[7. 8. 4. ... 1. 2. 1.]\n"
     ]
    }
   ],
   "source": [
    "print(y_test)"
   ]
  },
  {
   "cell_type": "code",
   "execution_count": null,
   "metadata": {},
   "outputs": [],
   "source": []
  }
 ],
 "metadata": {
  "kernelspec": {
   "display_name": "Python 3",
   "language": "python",
   "name": "python3"
  },
  "language_info": {
   "codemirror_mode": {
    "name": "ipython",
    "version": 3
   },
   "file_extension": ".py",
   "mimetype": "text/x-python",
   "name": "python",
   "nbconvert_exporter": "python",
   "pygments_lexer": "ipython3",
   "version": "3.8.10"
  }
 },
 "nbformat": 4,
 "nbformat_minor": 2
}
